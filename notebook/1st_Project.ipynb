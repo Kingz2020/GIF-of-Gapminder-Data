{
 "cells": [
  {
   "cell_type": "code",
   "execution_count": null,
   "metadata": {},
   "outputs": [],
   "source": [
    "import pandas as pd\n",
    "\n",
    "\n",
    "# preparation of fertility data\n",
    "\n",
    "fert = pd.read_csv('../data/gapminder_total_fertility.csv', index_col=0)\n",
    "life = pd.read_excel('../data/gapminder_lifeexpectancy.xlsx', index_col=0)\n",
    "\n",
    "fert.columns = fert.columns.astype(int)\n",
    "\n",
    "fert.index.name = 'country'\n",
    "fert = fert.reset_index()\n",
    "fert = fert.melt(id_vars='country', var_name='year', value_name='fertility_rate')\n",
    "\n",
    "#preparation of population data\n",
    "\n",
    "population = pd.read_excel('../data/gapminder_population.xlsx', index_col=0)\n",
    "population.index.name = 'country'\n",
    "population = population.reset_index()\n",
    "population = population.melt(id_vars='country', var_name='year', value_name='population')\n",
    "\n",
    "# merging of fertility and population data\n",
    "\n",
    "df = fert.merge(population)\n",
    "life.index.name = 'country'\n",
    "life = life.reset_index()\n",
    "\n",
    "#life table melted to 3 columns\n",
    "\n",
    "life = life.melt(id_vars='country', var_name='year', value_name='life_expectancy')\n",
    "df = df.merge(life)\n",
    "\n",
    "\n"
   ]
  },
  {
   "cell_type": "code",
   "execution_count": null,
   "metadata": {},
   "outputs": [],
   "source": [
    "import pandas as pd\n",
    "\n",
    "fert = pd.read_csv('../data/gapminder_total_fertility.csv', index_col=0)"
   ]
  },
  {
   "cell_type": "code",
   "execution_count": null,
   "metadata": {},
   "outputs": [],
   "source": [
    "print(fert.shape)"
   ]
  },
  {
   "cell_type": "code",
   "execution_count": null,
   "metadata": {},
   "outputs": [],
   "source": [
    "life = pd.read_excel('../data/gapminder_lifeexpectancy.xlsx', index_col=0)"
   ]
  },
  {
   "cell_type": "code",
   "execution_count": null,
   "metadata": {},
   "outputs": [],
   "source": [
    "print(life.shape)"
   ]
  },
  {
   "cell_type": "code",
   "execution_count": null,
   "metadata": {},
   "outputs": [],
   "source": [
    "fert.columns"
   ]
  },
  {
   "cell_type": "code",
   "execution_count": null,
   "metadata": {},
   "outputs": [],
   "source": [
    "life.columns"
   ]
  },
  {
   "cell_type": "code",
   "execution_count": null,
   "metadata": {},
   "outputs": [],
   "source": [
    "fert.columns = fert.columns.astype(int)"
   ]
  },
  {
   "cell_type": "code",
   "execution_count": null,
   "metadata": {},
   "outputs": [],
   "source": [
    "fert.columns"
   ]
  },
  {
   "cell_type": "code",
   "execution_count": null,
   "metadata": {},
   "outputs": [],
   "source": [
    "fert.index"
   ]
  },
  {
   "cell_type": "code",
   "execution_count": null,
   "metadata": {},
   "outputs": [],
   "source": [
    "fert.index.name"
   ]
  },
  {
   "cell_type": "code",
   "execution_count": null,
   "metadata": {},
   "outputs": [],
   "source": [
    "fert.index.name = 'country'"
   ]
  },
  {
   "cell_type": "code",
   "execution_count": null,
   "metadata": {},
   "outputs": [],
   "source": [
    "fert = fert.reset_index()"
   ]
  },
  {
   "cell_type": "code",
   "execution_count": null,
   "metadata": {},
   "outputs": [],
   "source": [
    "fert = fert.melt(id_vars='country', var_name='year', value_name='fertility_rate')"
   ]
  },
  {
   "cell_type": "code",
   "execution_count": null,
   "metadata": {},
   "outputs": [],
   "source": [
    "fert.head()"
   ]
  },
  {
   "cell_type": "code",
   "execution_count": null,
   "metadata": {},
   "outputs": [],
   "source": [
    "population = pd.read_excel('../data/gapminder_population.xlsx', index_col=0)"
   ]
  },
  {
   "cell_type": "code",
   "execution_count": null,
   "metadata": {},
   "outputs": [],
   "source": [
    "population.head()"
   ]
  },
  {
   "cell_type": "code",
   "execution_count": null,
   "metadata": {},
   "outputs": [],
   "source": [
    "population.columns"
   ]
  },
  {
   "cell_type": "code",
   "execution_count": null,
   "metadata": {},
   "outputs": [],
   "source": [
    "population.index.name = 'country'"
   ]
  },
  {
   "cell_type": "code",
   "execution_count": null,
   "metadata": {},
   "outputs": [],
   "source": [
    "population = population.reset_index()"
   ]
  },
  {
   "cell_type": "code",
   "execution_count": null,
   "metadata": {},
   "outputs": [],
   "source": [
    "population.head()"
   ]
  },
  {
   "cell_type": "code",
   "execution_count": null,
   "metadata": {},
   "outputs": [],
   "source": [
    "population = population.melt(id_vars='country', var_name='year', value_name='population')"
   ]
  },
  {
   "cell_type": "code",
   "execution_count": null,
   "metadata": {},
   "outputs": [],
   "source": [
    "population.head()"
   ]
  },
  {
   "cell_type": "code",
   "execution_count": null,
   "metadata": {},
   "outputs": [],
   "source": [
    "df = fert.merge(population)"
   ]
  },
  {
   "cell_type": "code",
   "execution_count": null,
   "metadata": {},
   "outputs": [],
   "source": [
    "life.head()"
   ]
  },
  {
   "cell_type": "code",
   "execution_count": null,
   "metadata": {},
   "outputs": [],
   "source": [
    "life.index.name = 'country'"
   ]
  },
  {
   "cell_type": "code",
   "execution_count": null,
   "metadata": {},
   "outputs": [],
   "source": [
    "life = life.reset_index()"
   ]
  },
  {
   "cell_type": "code",
   "execution_count": null,
   "metadata": {},
   "outputs": [],
   "source": [
    "life = life.melt(id_vars='country', var_name='year', value_name='life_expectancy')"
   ]
  },
  {
   "cell_type": "code",
   "execution_count": null,
   "metadata": {},
   "outputs": [],
   "source": [
    "life.head()"
   ]
  },
  {
   "cell_type": "code",
   "execution_count": null,
   "metadata": {},
   "outputs": [],
   "source": [
    "df = df.merge(life)"
   ]
  },
  {
   "cell_type": "code",
   "execution_count": null,
   "metadata": {},
   "outputs": [],
   "source": [
    "df.head()"
   ]
  },
  {
   "cell_type": "code",
   "execution_count": null,
   "metadata": {},
   "outputs": [],
   "source": [
    "import seaborn as sns\n",
    "import matplotlib.pyplot as plt\n",
    "sns.set()\n",
    "\n",
    "df_subset = df.loc[df['country'].isin(['France', 'Germany', 'Sweden'])]\n",
    "sns.lineplot(x='year', y='life_expectancy', hue='country',\n",
    "            data=df_subset)"
   ]
  },
  {
   "cell_type": "code",
   "execution_count": null,
   "metadata": {},
   "outputs": [],
   "source": [
    "sns.scatterplot(x='year', y='life_expectancy', hue='country',\n",
    "            data=df_subset, alpha=0.6)"
   ]
  },
  {
   "cell_type": "code",
   "execution_count": null,
   "metadata": {
    "scrolled": true
   },
   "outputs": [],
   "source": [
    "df_subset[df_subset['year']==1960]"
   ]
  },
  {
   "cell_type": "code",
   "execution_count": null,
   "metadata": {},
   "outputs": [],
   "source": [
    "\n",
    "for i in range(1960,2016):\n",
    "    fig=plt.figure(1)\n",
    "    fig.clf()    \n",
    "    ax=plt.subplot(111)\n",
    "    ax.set_xlim(1960,2016)\n",
    "    ax.set_ylim(60,90)\n",
    "    df_pic=df_subset[df_subset['year']==i]\n",
    "    sns.scatterplot(x='year', y='life_expectancy', hue='country',\n",
    "            data=df_pic, alpha=0.6,ax=ax)\n",
    "    plt.savefig('../data/pics/lifeexp_{}.png'.format(i))\n"
   ]
  },
  {
   "cell_type": "code",
   "execution_count": null,
   "metadata": {
    "scrolled": true
   },
   "outputs": [],
   "source": [
    "pip install imageio"
   ]
  },
  {
   "cell_type": "code",
   "execution_count": null,
   "metadata": {},
   "outputs": [],
   "source": [
    "import imageio\n",
    "\n",
    "images = []\n",
    "a=1960\n",
    "b=2016\n",
    "\n",
    "for i in range(a, b):\n",
    "    filename = '../data/pics/lifeexp_{}.png'.format(i)\n",
    "    images.append(imageio.imread(filename))\n",
    "\n",
    "imageio.mimsave('output.gif', images, fps=20)"
   ]
  },
  {
   "cell_type": "code",
   "execution_count": null,
   "metadata": {},
   "outputs": [],
   "source": [
    "df.head()"
   ]
  },
  {
   "cell_type": "code",
   "execution_count": null,
   "metadata": {},
   "outputs": [],
   "source": [
    "df['life_expectancy'].value_counts(dropna=False)"
   ]
  },
  {
   "cell_type": "code",
   "execution_count": null,
   "metadata": {},
   "outputs": [],
   "source": [
    "df['population'].value_counts(dropna=False)"
   ]
  },
  {
   "cell_type": "code",
   "execution_count": null,
   "metadata": {},
   "outputs": [],
   "source": [
    "df.info()"
   ]
  },
  {
   "cell_type": "code",
   "execution_count": null,
   "metadata": {},
   "outputs": [],
   "source": [
    "df_clean=df.dropna()"
   ]
  },
  {
   "cell_type": "code",
   "execution_count": null,
   "metadata": {},
   "outputs": [],
   "source": [
    "df_clean.info()"
   ]
  },
  {
   "cell_type": "code",
   "execution_count": null,
   "metadata": {
    "scrolled": true
   },
   "outputs": [],
   "source": []
  },
  {
   "cell_type": "code",
   "execution_count": null,
   "metadata": {},
   "outputs": [],
   "source": [
    "continent = pd.read_csv('../data/continents.csv', sep=';')"
   ]
  },
  {
   "cell_type": "code",
   "execution_count": null,
   "metadata": {},
   "outputs": [],
   "source": [
    "continent.head()"
   ]
  },
  {
   "cell_type": "code",
   "execution_count": null,
   "metadata": {},
   "outputs": [],
   "source": [
    "df_clean.head()"
   ]
  },
  {
   "cell_type": "code",
   "execution_count": null,
   "metadata": {},
   "outputs": [],
   "source": [
    "df_clean= df_clean.merge(continent)"
   ]
  },
  {
   "cell_type": "code",
   "execution_count": null,
   "metadata": {},
   "outputs": [],
   "source": [
    "df_clean.head()"
   ]
  },
  {
   "cell_type": "code",
   "execution_count": null,
   "metadata": {},
   "outputs": [],
   "source": [
    "df_clean.groupby('continent').count()"
   ]
  },
  {
   "cell_type": "code",
   "execution_count": null,
   "metadata": {},
   "outputs": [],
   "source": [
    "df_clean[df_clean['country']=='Algeria']"
   ]
  },
  {
   "cell_type": "code",
   "execution_count": null,
   "metadata": {
    "scrolled": true
   },
   "outputs": [],
   "source": [
    "for i in range(1960,2016):\n",
    "    fig=plt.figure(1)\n",
    "    fig.clf()    \n",
    "    ax=plt.subplot(111)\n",
    "    ax.set_xlim(1960,2016)\n",
    "    ax.set_ylim(0,10)\n",
    "    df_pic=df_clean[df_clean['year']==i]\n",
    "    sns.scatterplot(x='year', y='fertility_rate', hue='continent',\n",
    "            data=df_pic,size='population', sizes=(50,200), alpha=0.6,ax=ax)\n",
    "    plt.savefig('../data/pics/lifeexp_{}.png'.format(i))"
   ]
  },
  {
   "cell_type": "code",
   "execution_count": null,
   "metadata": {},
   "outputs": [],
   "source": [
    "df_pic=df_clean[df_clean['year']==i]"
   ]
  },
  {
   "cell_type": "code",
   "execution_count": null,
   "metadata": {},
   "outputs": [],
   "source": [
    "df_clean[df_clean['year']==2005]"
   ]
  },
  {
   "cell_type": "code",
   "execution_count": null,
   "metadata": {},
   "outputs": [],
   "source": [
    "import imageio\n",
    "\n",
    "images = []\n",
    "a=1960\n",
    "b=2016\n",
    "\n",
    "for i in range(a, b):\n",
    "    filename = '../data/pics/lifeexp_{}.png'.format(i)\n",
    "    images.append(imageio.imread(filename))\n",
    "\n",
    "imageio.mimsave('output.gif', images, fps=20)"
   ]
  },
  {
   "cell_type": "code",
   "execution_count": null,
   "metadata": {},
   "outputs": [],
   "source": [
    "child_mort = pd.read_csv('../data/child_mortality_0_5_year_olds_dying_per_1000_born.csv', index_col=0)"
   ]
  },
  {
   "cell_type": "code",
   "execution_count": null,
   "metadata": {},
   "outputs": [],
   "source": [
    "child_mort.head()"
   ]
  },
  {
   "cell_type": "code",
   "execution_count": null,
   "metadata": {},
   "outputs": [],
   "source": [
    "child_mort.index.name = 'country'\n",
    "#child_mort = child_mort.reset_index()\n",
    "\n"
   ]
  },
  {
   "cell_type": "code",
   "execution_count": null,
   "metadata": {},
   "outputs": [],
   "source": [
    "child_mort.columns"
   ]
  },
  {
   "cell_type": "code",
   "execution_count": null,
   "metadata": {},
   "outputs": [],
   "source": [
    "child_mort.columns = child_mort.columns.astype(int)"
   ]
  },
  {
   "cell_type": "code",
   "execution_count": null,
   "metadata": {},
   "outputs": [],
   "source": [
    "child_mort = child_mort.reset_index()"
   ]
  },
  {
   "cell_type": "code",
   "execution_count": null,
   "metadata": {},
   "outputs": [],
   "source": [
    "child_mort.head()"
   ]
  },
  {
   "cell_type": "code",
   "execution_count": null,
   "metadata": {},
   "outputs": [],
   "source": [
    "df_clean.head()"
   ]
  },
  {
   "cell_type": "code",
   "execution_count": null,
   "metadata": {},
   "outputs": [],
   "source": [
    "child_mort = child_mort.melt(id_vars='country', var_name='year', value_name='child_mortality')"
   ]
  },
  {
   "cell_type": "code",
   "execution_count": null,
   "metadata": {},
   "outputs": [],
   "source": [
    "df_clean= df_clean.merge(child_mort)"
   ]
  },
  {
   "cell_type": "code",
   "execution_count": null,
   "metadata": {},
   "outputs": [],
   "source": [
    "'''for i in range(1960,2016):\n",
    "    fig=plt.figure(1)\n",
    "    fig.clf()    \n",
    "    ax=plt.subplot(111)\n",
    "    ax.set_xlim(1960,2016)\n",
    "    ax.set_ylim(0,10)\n",
    "    df_pic=df_clean[df_clean['year']==i]\n",
    "    sns.scatterplot(x='child_mortality', y='fertility_rate', hue='continent',\n",
    "            data=df_pic,size='population', sizes=(50,200), alpha=0.6,ax=ax)\n",
    "    plt.savefig('pics/lifeexp_{}.png'.format(i))'''"
   ]
  },
  {
   "cell_type": "code",
   "execution_count": null,
   "metadata": {},
   "outputs": [],
   "source": [
    "df_clean.columns"
   ]
  },
  {
   "cell_type": "code",
   "execution_count": null,
   "metadata": {},
   "outputs": [],
   "source": [
    "df_clean['child_mortality'].describe()"
   ]
  },
  {
   "cell_type": "code",
   "execution_count": null,
   "metadata": {},
   "outputs": [],
   "source": [
    "df_clean.head()"
   ]
  },
  {
   "cell_type": "code",
   "execution_count": null,
   "metadata": {},
   "outputs": [],
   "source": [
    "df_clean[df_clean['country']=='Ghana']"
   ]
  },
  {
   "cell_type": "code",
   "execution_count": null,
   "metadata": {},
   "outputs": [],
   "source": [
    "df_clean['child_mort_%']=df_clean['child_mortality'].transform(lambda x: 1- x/100)"
   ]
  },
  {
   "cell_type": "code",
   "execution_count": null,
   "metadata": {},
   "outputs": [],
   "source": [
    "df_clean[df_clean['country']=='Ghana']"
   ]
  },
  {
   "cell_type": "markdown",
   "metadata": {},
   "source": [
    "### The final necessities"
   ]
  },
  {
   "cell_type": "code",
   "execution_count": 1,
   "metadata": {},
   "outputs": [],
   "source": [
    "import pandas as pd\n",
    "import matplotlib.pyplot as plt\n",
    "import seaborn as sns\n",
    "import matplotlib.pyplot as plt\n",
    "sns.set()"
   ]
  },
  {
   "cell_type": "code",
   "execution_count": 5,
   "metadata": {},
   "outputs": [],
   "source": [
    "def prepare_fertility():\n",
    "    '''   '''\n",
    "    fert = pd.read_csv('../data/gapminder_total_fertility.csv', index_col=0)\n",
    "    fert.index.name = 'country'\n",
    "    fert.columns = fert.columns.astype(int)\n",
    "    fert = fert.reset_index()\n",
    "    fert = fert.melt(id_vars='country', var_name='year', value_name='fertility_rate')\n",
    "    return fert"
   ]
  },
  {
   "cell_type": "code",
   "execution_count": 6,
   "metadata": {},
   "outputs": [],
   "source": [
    "def prepare_population():\n",
    "    ''''''\n",
    "    population = pd.read_excel('../data/gapminder_population.xlsx', index_col=0)\n",
    "    population.index.name = 'country'\n",
    "    population = population.reset_index()\n",
    "    population = population.melt(id_vars='country', var_name='year', value_name='population')\n",
    "    return population"
   ]
  },
  {
   "cell_type": "code",
   "execution_count": 7,
   "metadata": {},
   "outputs": [],
   "source": [
    "def prepare_life():\n",
    "    ''''''\n",
    "    life = pd.read_excel('../data/gapminder_lifeexpectancy.xlsx', index_col=0)\n",
    "    life.index.name = 'country'\n",
    "    life = life.reset_index()\n",
    "    life = life.melt(id_vars='country', var_name='year', value_name='life_expectancy')\n",
    "    return life\n",
    "    "
   ]
  },
  {
   "cell_type": "code",
   "execution_count": null,
   "metadata": {},
   "outputs": [],
   "source": [
    "def prepare_mortality():\n",
    "    ''''''\n",
    "    child_mort = pd.read_csv('../data/child_mortality_0_5_year_olds_dying_per_1000_born.csv', index_col=0)\n",
    "    child_mort.index.name = 'country'\n",
    "    child_mort.columns = child_mort.columns.astype(int)\n",
    "    child_mort = child_mort.reset_index()\n",
    "    child_mort = child_mort.melt(id_vars='country', var_name='year', value_name='child_mortality')\n",
    "    return child_mort"
   ]
  },
  {
   "cell_type": "code",
   "execution_count": null,
   "metadata": {},
   "outputs": [],
   "source": [
    " # main\n",
    "    fert = prepare_fertility()\n",
    "    population = prepare_population()\n",
    "    \n",
    "    df = fert.merge(population)\n",
    "    prepare_life()\n",
    "    df = df.merge(life)\n",
    "    \n",
    "    df_subset = df.loc[df['country'].isin(['France', 'Germany', 'Sweden'])]\n",
    "    continent = pd.read_csv('../data/continents.csv', sep=';')\n",
    "    df_clean=df.dropna()\n",
    "    df_clean= df_clean.merge(continent)\n",
    "    child_mort = prepare_mortality()\n",
    "    df_clean= df_clean.merge(child_mort)\n",
    "\n",
    "    df_clean['child_mort_%']=df_clean['child_mortality'].transform(lambda x: 1- x/100)"
   ]
  },
  {
   "cell_type": "code",
   "execution_count": 2,
   "metadata": {},
   "outputs": [],
   "source": [
    "# preparation of fertility data\n",
    "\n",
    "fert = pd.read_csv('../data/gapminder_total_fertility.csv', index_col=0)\n",
    "fert.index.name = 'country'\n",
    "fert.columns = fert.columns.astype(int)\n",
    "fert = fert.reset_index()\n",
    "fert = fert.melt(id_vars='country', var_name='year', value_name='fertility_rate')\n",
    "\n",
    "#preparation of population data\n",
    "\n",
    "population = pd.read_excel('../data/gapminder_population.xlsx', index_col=0)\n",
    "population.index.name = 'country'\n",
    "population = population.reset_index()\n",
    "population = population.melt(id_vars='country', var_name='year', value_name='population')\n",
    "\n",
    "df = fert.merge(population)\n",
    "\n",
    "# merging of fertility and population data\n",
    "\n",
    "life = pd.read_excel('../data/gapminder_lifeexpectancy.xlsx', index_col=0)\n",
    "life.index.name = 'country'\n",
    "life = life.reset_index()\n",
    "life = life.melt(id_vars='country', var_name='year', value_name='life_expectancy')\n",
    "\n",
    "df = df.merge(life)\n",
    "\n",
    "df_subset = df.loc[df['country'].isin(['France', 'Germany', 'Sweden'])]\n",
    "\n",
    "continent = pd.read_csv('../data/continents.csv', sep=';')\n",
    "df_clean=df.dropna()\n",
    "df_clean= df_clean.merge(continent)\n",
    "\n",
    "child_mort = pd.read_csv('../data/child_mortality_0_5_year_olds_dying_per_1000_born.csv', index_col=0)\n",
    "child_mort.index.name = 'country'\n",
    "child_mort.columns = child_mort.columns.astype(int)\n",
    "child_mort = child_mort.reset_index()\n",
    "child_mort = child_mort.melt(id_vars='country', var_name='year', value_name='child_mortality')\n",
    "df_clean= df_clean.merge(child_mort)\n",
    "\n",
    "df_clean['child_mort_%']=df_clean['child_mortality'].transform(lambda x: 1- x/100)\n"
   ]
  },
  {
   "cell_type": "code",
   "execution_count": 3,
   "metadata": {
    "scrolled": false
   },
   "outputs": [
    {
     "data": {
      "image/png": "[encoded data removed]",
      "text/plain": [
       "<Figure size 1440x1440 with 1 Axes>"
      ]
     },
     "metadata": {},
     "output_type": "display_data"
    }
   ],
   "source": [
    "for i in range(1960,2016):\n",
    "    fig=plt.figure(1)\n",
    "    fig.clf()    \n",
    "    ax=plt.subplot(111)\n",
    "    ax.set_xlim(0.4,1.3)\n",
    "    ax.set_ylim(0,10)\n",
    "    df_pic=df_clean[df_clean['year']==i]\n",
    "    plt.gcf().set_size_inches((20, 20))  \n",
    "    sns.set_style('whitegrid')\n",
    "    plt.title('The Change')\n",
    "    plt.style.use('fivethirtyeight')\n",
    "    sns.scatterplot(x='child_mort_%', y='fertility_rate', hue='continent',\n",
    "            data=df_pic,size='population', sizes=(50,3200), alpha=0.6,ax=ax, legend='brief')\n",
    "    plt.xlabel('% Child Survival')\n",
    "    plt.ylabel('Children per Woman')\n",
    "    ax.text(0.25,0.38,i,size=250,alpha=0.1,transform=ax.transAxes)\n",
    "    plt.savefig('../data/pics/lifeexp_{}.png'.format(i))\n"
   ]
  },
  {
   "cell_type": "code",
   "execution_count": 4,
   "metadata": {},
   "outputs": [],
   "source": [
    "import imageio\n",
    "\n",
    "images = []\n",
    "a=1960\n",
    "b=2016\n",
    "\n",
    "for i in range(a, b):\n",
    "    filename = '../data/pics/lifeexp_{}.png'.format(i)\n",
    "    images.append(imageio.imread(filename))\n",
    "\n",
    "imageio.mimsave('output.gif', images, fps=20)"
   ]
  },
  {
   "cell_type": "code",
   "execution_count": null,
   "metadata": {},
   "outputs": [],
   "source": []
  }
 ],
 "metadata": {
  "kernelspec": {
   "display_name": "Python 3",
   "language": "python",
   "name": "python3"
  },
  "language_info": {
   "codemirror_mode": {
    "name": "ipython",
    "version": 3
   },
   "file_extension": ".py",
   "mimetype": "text/x-python",
   "name": "python",
   "nbconvert_exporter": "python",
   "pygments_lexer": "ipython3",
   "version": "3.8.3"
  }
 },
 "nbformat": 4,
 "nbformat_minor": 4
}
